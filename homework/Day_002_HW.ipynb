{
 "cells": [
  {
   "cell_type": "markdown",
   "metadata": {},
   "source": [
    "## [作業目標]\n",
    "了解機器學習適合應用的領域與範疇。"
   ]
  },
  {
   "cell_type": "markdown",
   "metadata": {},
   "source": [
    "## [作業重點]\n",
    "透過瞭解機器學習的運作方式，找出非常適用機器學習應用的領域及其原因"
   ]
  },
  {
   "cell_type": "markdown",
   "metadata": {},
   "source": [
    "## 作業\n",
    "請找出一個你認為機器學習可以發光發熱的領域並闡述原因? "
   ]
  },
  {
   "cell_type": "code",
   "execution_count": null,
   "metadata": {},
   "outputs": [],
   "source": [
    "    機器學習是一個令人驚艷領域, 學習後從早期還不如人的結果, 慢慢的跟上人的進度, 到現在在一些領域做的人還要好,\n",
    "我覺得機器學習在與機器人相結合, 可以達到發光發熱的機會, 傳統的機器人只能做一些簡單的事情, 過於複雜的事, 就做\n",
    "的比人差, 現在因機器學習的關係, 可以讓機器人在更多的領域做的更好, 如無人駕駛無人飛機 , 其實也可以說是駕駛機\n",
    "器人, 其實依照規則做規畫, 機器人可以執行的比人完美, 但在於例外狀況的處理, 人可以依據以前的經驗, 力挽狂瀾, 改\n",
    "變事情的結果, 當然如果人判斷處理不好, 就會是一場悲劇, 曾如之前說的機器在操控在可以做的比人完美, 如果讓他們知\n",
    "道如何做; 所以我覺得機器學習結合機器人可以大大改變世界, 或許很多生產的事都是機器人自行運作, 人只要往更高深的\n",
    "學問做研究及過更好的生活, 但到達這種理想狀況還需要持續在機器學習上進步, 如視覺, 聽覺, 語音, 各式各樣的感測器\n",
    "通力合作, 這些資料通過感測器收集, 再由機器學習分類給予對應的回饋, 經過這個反覆的來回, 讓機器學習能正確回應這\n",
    "些感測器回應的資料, 未來機器學習也可以協助人做更高深的研究, 達到同時進步"
   ]
  }
 ],
 "metadata": {
  "kernelspec": {
   "display_name": "Python 3",
   "language": "python",
   "name": "python3"
  },
  "language_info": {
   "codemirror_mode": {
    "name": "ipython",
    "version": 3
   },
   "file_extension": ".py",
   "mimetype": "text/x-python",
   "name": "python",
   "nbconvert_exporter": "python",
   "pygments_lexer": "ipython3",
   "version": "3.7.4"
  }
 },
 "nbformat": 4,
 "nbformat_minor": 2
}
