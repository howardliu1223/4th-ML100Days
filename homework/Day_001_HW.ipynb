{
 "cells": [
  {
   "cell_type": "code",
   "execution_count": 5,
   "metadata": {},
   "outputs": [
    {
     "name": "stdout",
     "output_type": "stream",
     "text": [
      "y is[-33.22545101  -5.69272726  19.05197725  32.5052164    4.70424517\n",
      "  24.18331994  41.41631886  34.22626668   2.03338805  26.71440005\n",
      "  15.47377731]\n",
      "yp is[ 0.5  3.5  6.5  9.5 12.5 15.5 18.5 21.5 24.5 27.5 30.5]\n",
      "Mean square error is 314.832\n"
     ]
    }
   ],
   "source": [
    "import numpy as np\n",
    "import matplotlib.pyplot as plt\n",
    "def mean_square_error(y, yp):\n",
    "    \"\"\"\n",
    "    計算 mean square error\n",
    "    args:\n",
    "        y: 實際值\n",
    "        yp: 預測值\n",
    "    return:\n",
    "        mean square error        \n",
    "    \"\"\"\n",
    "    return (sum((y-yp)**2)/len(y))\n",
    "\n",
    "w = 3\n",
    "b = 0.5\n",
    "x = np.linspace(0, 10, 11)\n",
    "y = (x + np.random.randn(11) * 5) * w + b\n",
    "yp = x * w + b\n",
    "print(\"y is\" + str(y))\n",
    "print(\"yp is\" + str(yp))\n",
    "print(\"Mean square error is %.3f\" % mean_square_error(y, yp))"
   ]
  }
 ],
 "metadata": {
  "kernelspec": {
   "display_name": "Python 3",
   "language": "python",
   "name": "python3"
  },
  "language_info": {
   "codemirror_mode": {
    "name": "ipython",
    "version": 3
   },
   "file_extension": ".py",
   "mimetype": "text/x-python",
   "name": "python",
   "nbconvert_exporter": "python",
   "pygments_lexer": "ipython3",
   "version": "3.7.4"
  }
 },
 "nbformat": 4,
 "nbformat_minor": 2
}
