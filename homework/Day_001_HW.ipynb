{
 "cells": [
  {
   "cell_type": "code",
   "execution_count": 5,
   "metadata": {},
   "outputs": [
    {
     "name": "stdout",
     "output_type": "stream",
     "text": [
      "y is[-33.22545101  -5.69272726  19.05197725  32.5052164    4.70424517\n",
      "  24.18331994  41.41631886  34.22626668   2.03338805  26.71440005\n",
      "  15.47377731]\n",
      "yp is[ 0.5  3.5  6.5  9.5 12.5 15.5 18.5 21.5 24.5 27.5 30.5]\n",
      "Mean square error is 314.832\n"
     ]
    }
   ],
   "source": [
    "import numpy as np\n",
    "import matplotlib.pyplot as plt\n",
    "def mean_square_error(y, yp):\n",
    "    \"\"\"\n",
    "    計算 mean square error\n",
    "    args:\n",
    "        y: 實際值\n",
    "        yp: 預測值\n",
    "    return:\n",
    "        mean square error        \n",
    "    \"\"\"\n",
    "    return (sum((y-yp)**2)/len(y))\n",
    "\n",
    "w = 3\n",
    "b = 0.5\n",
    "x = np.linspace(0, 10, 11)\n",
    "y = (x + np.random.randn(11) * 5) * w + b\n",
    "yp = x * w + b\n",
    "print(\"y is\" + str(y))\n",
    "print(\"yp is\" + str(yp))\n",
    "print(\"Mean square error is %.3f\" % mean_square_error(y, yp))"
   ]
  },
  {
   "cell_type": "code",
   "execution_count": null,
   "metadata": {},
   "outputs": [],
   "source": [
    "作業二\n",
    "1. 你選的這組資料為何重要\n",
    "競賽第一筆 Deepfake Detection Challenge: Identify videos with facial or voice manipulations, 因是第一筆而\n",
    "且獎金高達一佰萬, 會好奇也想知道為何這個問題會提供如此高的獎金\n",
    "2. 資料從何而來 (tips: 譬如提供者是誰、以什麼方式蒐集)\n",
    "Deepfake Detection Challenge (DFDC) 協會, 由 AWS, Facebook, Microsoft, the Partnership on AI’s Media \n",
    "Integrity Steering Committee, and academics 組成, 並且 License Agreement 看來, 美國政府也是有支持經費,\n",
    "有限制一些跟美國有敵對的共產國家及制裁名單無法下載資料\n",
    "3. 蒐集而來的資料型態為何\n",
    "主是是 MP4 的影像檔, 並有提供 json 檔描述影像的檔名, 是真的或假造的, 如果是假造的, 也會把沒有假造的影像\n",
    "連結附上去, 最後是分類, 現在都是訓練用的資料, 也提供一個輸出檔案格式給使用者做上傳用\n",
    "4. 這組資料想解決的問題如何評估\n",
    "有下列要求:\n",
    "a. CPU Notebook <= 9 hours run-time\n",
    "b. GPU Notebook <= 9 hours run-time on Kaggle's P100 GPUs'\n",
    "c. No internet access enabled\n",
    "d. External data is allowed up to 1 GB in size. External data must be freely & publicly available, including pre-trained models. \n",
    "e. No using other Kaggle notebooks or utility scripts as inputs to your submission notebook. External data also cannot be externally-referenced (i.e. via BigQuery, Github, external URL). Instead, load external models or datasets directly as an external data source.\n",
    "f. No custom packages enabled in your submission notebook\n",
    "g. Submission file must be named \"submission.csv\"\n",
    "scored and ranked by the evaluation metric stated on the Competition Website\n",
    "主要還在看測試的影片是否能判斷出有無造假\n",
    "\n",
    "作業三\n",
    "想像你經營一個自由載客車隊，你希望能透過數據分析以提升業績，請你思考並描述你如何規劃整體的分析/解決方案：\n",
    "1. 核心問題為何 (tips：如何定義 「提升業績 & 你的假設」)\n",
    "提升業績, 會想從客車能儘量都能一直載客, 減少空車的時間, 同時要兼顧地區客源與配載客車的數量, 避免客車集中一\n",
    "點, 但客源數確不足\n",
    "2. 資料從何而來 (tips：哪些資料可能會對你想問的問題產生影響 & 資料如何蒐集)\n",
    "從車隊中收集每台車每日分時跑的路線及路線上載客的資訊\n",
    "3. 蒐集而來的資料型態為何\n",
    "收集每台車每日分時地點及載客的上車時間, 上車地點, 下車時間, 下車地點, 乘客人數, 費用等\n",
    "4. 你要回答的問題，其如何評估 (tips：你的假設如何驗證)\n",
    "第一階段輸入時間及現行地點, 依距離及時間建議可能出現的載客地點, 預估的乘客人數, 預估收到的費用\n",
    "第二階段能即時收到每台客車線路圖, 並即時調整建議不讓預估的載客地點短期內太多客車同時前往"
   ]
  }
 ],
 "metadata": {
  "kernelspec": {
   "display_name": "Python 3",
   "language": "python",
   "name": "python3"
  },
  "language_info": {
   "codemirror_mode": {
    "name": "ipython",
    "version": 3
   },
   "file_extension": ".py",
   "mimetype": "text/x-python",
   "name": "python",
   "nbconvert_exporter": "python",
   "pygments_lexer": "ipython3",
   "version": "3.7.4"
  }
 },
 "nbformat": 4,
 "nbformat_minor": 2
}
